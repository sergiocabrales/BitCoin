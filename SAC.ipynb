{
  "nbformat": 4,
  "nbformat_minor": 0,
  "metadata": {
    "colab": {
      "name": "SAC.ipynb",
      "provenance": [],
      "collapsed_sections": [],
      "include_colab_link": true
    },
    "kernelspec": {
      "name": "python3",
      "display_name": "Python 3"
    },
    "language_info": {
      "name": "python"
    }
  },
  "cells": [
    {
      "cell_type": "markdown",
      "metadata": {
        "id": "view-in-github",
        "colab_type": "text"
      },
      "source": [
        "<a href=\"https://colab.research.google.com/github/sergiocabrales/BitCoin/blob/master/SAC.ipynb\" target=\"_parent\"><img src=\"https://colab.research.google.com/assets/colab-badge.svg\" alt=\"Open In Colab\"/></a>"
      ]
    },
    {
      "cell_type": "markdown",
      "metadata": {
        "id": "HDMUuXGmB_q1"
      },
      "source": [
        "# Algoritmos de Negociación basados en Machine Learning - Módulo 4\n",
        "- Sergio Andrés Cabrales, Ph.D., Universidad de los Andes \n",
        "- Juan Pablo Cortés, T.A., Universidad de los Andes\n",
        "\n",
        "https://github.com/algoritmosdenegociacion/"
      ]
    },
    {
      "cell_type": "markdown",
      "metadata": {
        "id": "CSr9zTNECaPv"
      },
      "source": [
        "## 1. Carga de librerías, funciones y APIs necesarias.\n"
      ]
    },
    {
      "cell_type": "markdown",
      "metadata": {
        "id": "mF4dwMlYCb8D"
      },
      "source": [
        "#### 1.1. Instalan las librerías que no incluye Google Colab"
      ]
    },
    {
      "cell_type": "code",
      "metadata": {
        "colab": {
          "base_uri": "https://localhost:8080/"
        },
        "id": "aKnoONgqf_EC",
        "outputId": "20d3dbab-5a2e-4ca0-b934-334604d315b6"
      },
      "source": [
        "pip install yfinance"
      ],
      "execution_count": 232,
      "outputs": [
        {
          "output_type": "stream",
          "name": "stdout",
          "text": [
            "Requirement already satisfied: yfinance in /usr/local/lib/python3.7/dist-packages (0.1.63)\n",
            "Requirement already satisfied: multitasking>=0.0.7 in /usr/local/lib/python3.7/dist-packages (from yfinance) (0.0.9)\n",
            "Requirement already satisfied: numpy>=1.15 in /usr/local/lib/python3.7/dist-packages (from yfinance) (1.19.5)\n",
            "Requirement already satisfied: pandas>=0.24 in /usr/local/lib/python3.7/dist-packages (from yfinance) (1.1.5)\n",
            "Requirement already satisfied: requests>=2.20 in /usr/local/lib/python3.7/dist-packages (from yfinance) (2.23.0)\n",
            "Requirement already satisfied: lxml>=4.5.1 in /usr/local/lib/python3.7/dist-packages (from yfinance) (4.6.3)\n",
            "Requirement already satisfied: python-dateutil>=2.7.3 in /usr/local/lib/python3.7/dist-packages (from pandas>=0.24->yfinance) (2.8.2)\n",
            "Requirement already satisfied: pytz>=2017.2 in /usr/local/lib/python3.7/dist-packages (from pandas>=0.24->yfinance) (2018.9)\n",
            "Requirement already satisfied: six>=1.5 in /usr/local/lib/python3.7/dist-packages (from python-dateutil>=2.7.3->pandas>=0.24->yfinance) (1.15.0)\n",
            "Requirement already satisfied: urllib3!=1.25.0,!=1.25.1,<1.26,>=1.21.1 in /usr/local/lib/python3.7/dist-packages (from requests>=2.20->yfinance) (1.24.3)\n",
            "Requirement already satisfied: certifi>=2017.4.17 in /usr/local/lib/python3.7/dist-packages (from requests>=2.20->yfinance) (2021.5.30)\n",
            "Requirement already satisfied: chardet<4,>=3.0.2 in /usr/local/lib/python3.7/dist-packages (from requests>=2.20->yfinance) (3.0.4)\n",
            "Requirement already satisfied: idna<3,>=2.5 in /usr/local/lib/python3.7/dist-packages (from requests>=2.20->yfinance) (2.10)\n"
          ]
        }
      ]
    },
    {
      "cell_type": "markdown",
      "metadata": {
        "id": "6zaoGOtoCjPq"
      },
      "source": [
        "#### 1.2. Se cargan las librerías necesarias"
      ]
    },
    {
      "cell_type": "code",
      "metadata": {
        "id": "cVO4GoZZCgc8"
      },
      "source": [
        "# Funciones numéricas adicionales\n",
        "import numpy as np\n",
        "\n",
        "# Lectura de datos y manejo de Data-sets\n",
        "import pandas as pd\n",
        "\n",
        "# Datos\n",
        "import yfinance as yfin\n",
        "\n",
        "# Gráficos \n",
        "import matplotlib.pyplot as plt"
      ],
      "execution_count": 233,
      "outputs": []
    },
    {
      "cell_type": "markdown",
      "metadata": {
        "id": "0Dvota99Cn_O"
      },
      "source": [
        "## 2. Obtención de datos históricos\n"
      ]
    },
    {
      "cell_type": "markdown",
      "metadata": {
        "id": "R_4CbC3JCq--"
      },
      "source": [
        "https://finance.yahoo.com/"
      ]
    },
    {
      "cell_type": "code",
      "metadata": {
        "id": "7z9AKmNdCr7v",
        "colab": {
          "base_uri": "https://localhost:8080/",
          "height": 467
        },
        "outputId": "37bc385e-0afc-49e6-bba8-250d8cd525af"
      },
      "source": [
        "# Descargamos datos de 1 años de la acción de Tesla\n",
        "df = yfin.download('BTC-USD', data_source='yahoo',start='2015-01-01', end='2021-01-01')\n",
        "df"
      ],
      "execution_count": 234,
      "outputs": [
        {
          "output_type": "stream",
          "name": "stdout",
          "text": [
            "\r[*********************100%***********************]  1 of 1 completed\n"
          ]
        },
        {
          "output_type": "execute_result",
          "data": {
            "text/html": [
              "<div>\n",
              "<style scoped>\n",
              "    .dataframe tbody tr th:only-of-type {\n",
              "        vertical-align: middle;\n",
              "    }\n",
              "\n",
              "    .dataframe tbody tr th {\n",
              "        vertical-align: top;\n",
              "    }\n",
              "\n",
              "    .dataframe thead th {\n",
              "        text-align: right;\n",
              "    }\n",
              "</style>\n",
              "<table border=\"1\" class=\"dataframe\">\n",
              "  <thead>\n",
              "    <tr style=\"text-align: right;\">\n",
              "      <th></th>\n",
              "      <th>Open</th>\n",
              "      <th>High</th>\n",
              "      <th>Low</th>\n",
              "      <th>Close</th>\n",
              "      <th>Adj Close</th>\n",
              "      <th>Volume</th>\n",
              "    </tr>\n",
              "    <tr>\n",
              "      <th>Date</th>\n",
              "      <th></th>\n",
              "      <th></th>\n",
              "      <th></th>\n",
              "      <th></th>\n",
              "      <th></th>\n",
              "      <th></th>\n",
              "    </tr>\n",
              "  </thead>\n",
              "  <tbody>\n",
              "    <tr>\n",
              "      <th>2015-01-01</th>\n",
              "      <td>320.434998</td>\n",
              "      <td>320.434998</td>\n",
              "      <td>314.002991</td>\n",
              "      <td>314.248993</td>\n",
              "      <td>314.248993</td>\n",
              "      <td>8036550</td>\n",
              "    </tr>\n",
              "    <tr>\n",
              "      <th>2015-01-02</th>\n",
              "      <td>314.079010</td>\n",
              "      <td>315.838989</td>\n",
              "      <td>313.565002</td>\n",
              "      <td>315.032013</td>\n",
              "      <td>315.032013</td>\n",
              "      <td>7860650</td>\n",
              "    </tr>\n",
              "    <tr>\n",
              "      <th>2015-01-03</th>\n",
              "      <td>314.846008</td>\n",
              "      <td>315.149994</td>\n",
              "      <td>281.082001</td>\n",
              "      <td>281.082001</td>\n",
              "      <td>281.082001</td>\n",
              "      <td>33054400</td>\n",
              "    </tr>\n",
              "    <tr>\n",
              "      <th>2015-01-04</th>\n",
              "      <td>281.145996</td>\n",
              "      <td>287.230011</td>\n",
              "      <td>257.612000</td>\n",
              "      <td>264.195007</td>\n",
              "      <td>264.195007</td>\n",
              "      <td>55629100</td>\n",
              "    </tr>\n",
              "    <tr>\n",
              "      <th>2015-01-05</th>\n",
              "      <td>265.084015</td>\n",
              "      <td>278.341003</td>\n",
              "      <td>265.084015</td>\n",
              "      <td>274.473999</td>\n",
              "      <td>274.473999</td>\n",
              "      <td>43962800</td>\n",
              "    </tr>\n",
              "    <tr>\n",
              "      <th>...</th>\n",
              "      <td>...</td>\n",
              "      <td>...</td>\n",
              "      <td>...</td>\n",
              "      <td>...</td>\n",
              "      <td>...</td>\n",
              "      <td>...</td>\n",
              "    </tr>\n",
              "    <tr>\n",
              "      <th>2020-12-28</th>\n",
              "      <td>26280.822266</td>\n",
              "      <td>27389.111328</td>\n",
              "      <td>26207.640625</td>\n",
              "      <td>27084.808594</td>\n",
              "      <td>27084.808594</td>\n",
              "      <td>49056742893</td>\n",
              "    </tr>\n",
              "    <tr>\n",
              "      <th>2020-12-29</th>\n",
              "      <td>27081.810547</td>\n",
              "      <td>27370.720703</td>\n",
              "      <td>25987.298828</td>\n",
              "      <td>27362.437500</td>\n",
              "      <td>27362.437500</td>\n",
              "      <td>45265946774</td>\n",
              "    </tr>\n",
              "    <tr>\n",
              "      <th>2020-12-30</th>\n",
              "      <td>27360.089844</td>\n",
              "      <td>28937.740234</td>\n",
              "      <td>27360.089844</td>\n",
              "      <td>28840.953125</td>\n",
              "      <td>28840.953125</td>\n",
              "      <td>51287442704</td>\n",
              "    </tr>\n",
              "    <tr>\n",
              "      <th>2020-12-31</th>\n",
              "      <td>28841.574219</td>\n",
              "      <td>29244.876953</td>\n",
              "      <td>28201.992188</td>\n",
              "      <td>29001.720703</td>\n",
              "      <td>29001.720703</td>\n",
              "      <td>46754964848</td>\n",
              "    </tr>\n",
              "    <tr>\n",
              "      <th>2021-01-01</th>\n",
              "      <td>28994.009766</td>\n",
              "      <td>29600.626953</td>\n",
              "      <td>28803.585938</td>\n",
              "      <td>29374.152344</td>\n",
              "      <td>29374.152344</td>\n",
              "      <td>40730301359</td>\n",
              "    </tr>\n",
              "  </tbody>\n",
              "</table>\n",
              "<p>2189 rows × 6 columns</p>\n",
              "</div>"
            ],
            "text/plain": [
              "                    Open          High  ...     Adj Close       Volume\n",
              "Date                                    ...                           \n",
              "2015-01-01    320.434998    320.434998  ...    314.248993      8036550\n",
              "2015-01-02    314.079010    315.838989  ...    315.032013      7860650\n",
              "2015-01-03    314.846008    315.149994  ...    281.082001     33054400\n",
              "2015-01-04    281.145996    287.230011  ...    264.195007     55629100\n",
              "2015-01-05    265.084015    278.341003  ...    274.473999     43962800\n",
              "...                  ...           ...  ...           ...          ...\n",
              "2020-12-28  26280.822266  27389.111328  ...  27084.808594  49056742893\n",
              "2020-12-29  27081.810547  27370.720703  ...  27362.437500  45265946774\n",
              "2020-12-30  27360.089844  28937.740234  ...  28840.953125  51287442704\n",
              "2020-12-31  28841.574219  29244.876953  ...  29001.720703  46754964848\n",
              "2021-01-01  28994.009766  29600.626953  ...  29374.152344  40730301359\n",
              "\n",
              "[2189 rows x 6 columns]"
            ]
          },
          "metadata": {},
          "execution_count": 234
        }
      ]
    },
    {
      "cell_type": "markdown",
      "metadata": {
        "id": "hJAMd1vGtaJM"
      },
      "source": [
        "## 3. Análisis Técnico "
      ]
    },
    {
      "cell_type": "code",
      "metadata": {
        "id": "BVFNCO77Cxlk",
        "colab": {
          "base_uri": "https://localhost:8080/"
        },
        "outputId": "8d676b4e-5c2c-4ebe-e5d4-81ed6c77e031"
      },
      "source": [
        "pip install ta"
      ],
      "execution_count": 235,
      "outputs": [
        {
          "output_type": "stream",
          "name": "stdout",
          "text": [
            "Requirement already satisfied: ta in /usr/local/lib/python3.7/dist-packages (0.7.0)\n",
            "Requirement already satisfied: numpy in /usr/local/lib/python3.7/dist-packages (from ta) (1.19.5)\n",
            "Requirement already satisfied: pandas in /usr/local/lib/python3.7/dist-packages (from ta) (1.1.5)\n",
            "Requirement already satisfied: python-dateutil>=2.7.3 in /usr/local/lib/python3.7/dist-packages (from pandas->ta) (2.8.2)\n",
            "Requirement already satisfied: pytz>=2017.2 in /usr/local/lib/python3.7/dist-packages (from pandas->ta) (2018.9)\n",
            "Requirement already satisfied: six>=1.5 in /usr/local/lib/python3.7/dist-packages (from python-dateutil>=2.7.3->pandas->ta) (1.15.0)\n"
          ]
        }
      ]
    },
    {
      "cell_type": "code",
      "metadata": {
        "id": "2L_1dsFKtl3q"
      },
      "source": [
        "# Importar librerias \n",
        "import ta"
      ],
      "execution_count": 236,
      "outputs": []
    },
    {
      "cell_type": "code",
      "metadata": {
        "colab": {
          "base_uri": "https://localhost:8080/",
          "height": 450
        },
        "id": "Fgd3zwkadz3W",
        "outputId": "bb8379b0-2cf4-4f75-a11c-256ca529d92a"
      },
      "source": [
        "# Incluir todo el anáñisis técnico a la base de datos\n",
        "df['SMA_5'] = ta.trend.sma_indicator(close=df[\"Close\"], window=5, fillna=True)/df[\"Close\"] \n",
        "df['SMA_20'] = ta.trend.sma_indicator(close=df[\"Close\"], window=20, fillna=True)/df[\"Close\"] \n",
        "df['SMA_20_5'] = ta.trend.sma_indicator(close=df[\"Close\"], window=5, fillna=True)/ta.trend.sma_indicator(close=df[\"Close\"], window=20, fillna=True)\n",
        "\n",
        "df['EMA_5'] = ta.trend.ema_indicator(close=df[\"Close\"], window=5, fillna=True)/df[\"Close\"]\n",
        "df['EMA_20'] = ta.trend.ema_indicator(close=df[\"Close\"], window=20, fillna=True)/df[\"Close\"] \n",
        "df['EMA_20_5'] = ta.trend.ema_indicator(close=df[\"Close\"], window=20, fillna=True)/ta.trend.ema_indicator(close=df[\"Close\"], window=5, fillna=True)\n",
        "\n",
        "\n",
        "df['MACD'] = ta.trend.macd(close=df[\"Close\"], fillna=True)\n",
        "\n",
        "df['RSI'] = ta.momentum.rsi(close=df[\"Close\"], fillna=True)\n",
        "\n",
        "df['BOL_H'] = ta.volatility.bollinger_hband(close=df[\"Close\"], fillna=True)/df[\"Close\"]\n",
        "df['BOL_L'] = df[\"Close\"]/ta.volatility.bollinger_lband(close=df[\"Close\"], fillna=True)\n",
        "\n",
        "df['BOL_H_L'] = ta.volatility.bollinger_hband(close=df[\"Close\"], fillna=True)/ta.volatility.bollinger_lband(close=df[\"Close\"], fillna=True)\n",
        "\n",
        "df['KDJ'] = ta.momentum.stoch(high=df[\"High\"], low=df[\"Low\"], close=df[\"Close\"], fillna=True)/df[\"Close\"]\n",
        "\n",
        "df['ATR'] = ta.volatility.average_true_range(high=df[\"High\"], low=df[\"Low\"], close=df[\"Close\"], fillna=True)/df[\"Close\"]\n",
        "\n",
        "df['WR'] = ta.momentum.williams_r(high=df[\"High\"], low=df[\"Low\"], close=df[\"Close\"], fillna=True)\n",
        "\n",
        "df.drop('Open', axis=1, inplace=True)\n",
        "df.drop('High', axis=1, inplace=True)\n",
        "df.drop('Low', axis=1, inplace=True)\n",
        "df.drop('Volume', axis=1, inplace=True)\n",
        "df.drop('Adj Close', axis=1, inplace=True)\n",
        "\n",
        "df"
      ],
      "execution_count": 237,
      "outputs": [
        {
          "output_type": "execute_result",
          "data": {
            "text/html": [
              "<div>\n",
              "<style scoped>\n",
              "    .dataframe tbody tr th:only-of-type {\n",
              "        vertical-align: middle;\n",
              "    }\n",
              "\n",
              "    .dataframe tbody tr th {\n",
              "        vertical-align: top;\n",
              "    }\n",
              "\n",
              "    .dataframe thead th {\n",
              "        text-align: right;\n",
              "    }\n",
              "</style>\n",
              "<table border=\"1\" class=\"dataframe\">\n",
              "  <thead>\n",
              "    <tr style=\"text-align: right;\">\n",
              "      <th></th>\n",
              "      <th>Close</th>\n",
              "      <th>SMA_5</th>\n",
              "      <th>SMA_20</th>\n",
              "      <th>SMA_20_5</th>\n",
              "      <th>EMA_5</th>\n",
              "      <th>EMA_20</th>\n",
              "      <th>EMA_20_5</th>\n",
              "      <th>MACD</th>\n",
              "      <th>RSI</th>\n",
              "      <th>BOL_H</th>\n",
              "      <th>BOL_L</th>\n",
              "      <th>BOL_H_L</th>\n",
              "      <th>KDJ</th>\n",
              "      <th>ATR</th>\n",
              "      <th>WR</th>\n",
              "    </tr>\n",
              "    <tr>\n",
              "      <th>Date</th>\n",
              "      <th></th>\n",
              "      <th></th>\n",
              "      <th></th>\n",
              "      <th></th>\n",
              "      <th></th>\n",
              "      <th></th>\n",
              "      <th></th>\n",
              "      <th></th>\n",
              "      <th></th>\n",
              "      <th></th>\n",
              "      <th></th>\n",
              "      <th></th>\n",
              "      <th></th>\n",
              "      <th></th>\n",
              "      <th></th>\n",
              "    </tr>\n",
              "  </thead>\n",
              "  <tbody>\n",
              "    <tr>\n",
              "      <th>2015-01-01</th>\n",
              "      <td>314.248993</td>\n",
              "      <td>1.000000</td>\n",
              "      <td>1.000000</td>\n",
              "      <td>1.000000</td>\n",
              "      <td>1.000000</td>\n",
              "      <td>1.000000</td>\n",
              "      <td>1.000000</td>\n",
              "      <td>0.000000</td>\n",
              "      <td>100.000000</td>\n",
              "      <td>1.000000</td>\n",
              "      <td>1.000000</td>\n",
              "      <td>1.000000</td>\n",
              "      <td>0.012171</td>\n",
              "      <td>0.000000</td>\n",
              "      <td>-96.175343</td>\n",
              "    </tr>\n",
              "    <tr>\n",
              "      <th>2015-01-02</th>\n",
              "      <td>315.032013</td>\n",
              "      <td>0.998757</td>\n",
              "      <td>0.998757</td>\n",
              "      <td>1.000000</td>\n",
              "      <td>0.998343</td>\n",
              "      <td>0.997751</td>\n",
              "      <td>0.999407</td>\n",
              "      <td>0.062463</td>\n",
              "      <td>100.000000</td>\n",
              "      <td>1.001243</td>\n",
              "      <td>1.003742</td>\n",
              "      <td>1.004990</td>\n",
              "      <td>0.067783</td>\n",
              "      <td>0.000000</td>\n",
              "      <td>-78.646120</td>\n",
              "    </tr>\n",
              "    <tr>\n",
              "      <th>2015-01-03</th>\n",
              "      <td>281.082001</td>\n",
              "      <td>1.079594</td>\n",
              "      <td>1.079594</td>\n",
              "      <td>1.000000</td>\n",
              "      <td>1.079284</td>\n",
              "      <td>1.107000</td>\n",
              "      <td>1.025680</td>\n",
              "      <td>-2.597573</td>\n",
              "      <td>2.096744</td>\n",
              "      <td>1.192179</td>\n",
              "      <td>1.034117</td>\n",
              "      <td>1.232853</td>\n",
              "      <td>0.000000</td>\n",
              "      <td>0.000000</td>\n",
              "      <td>-100.000000</td>\n",
              "    </tr>\n",
              "    <tr>\n",
              "      <th>2015-01-04</th>\n",
              "      <td>264.195007</td>\n",
              "      <td>1.111450</td>\n",
              "      <td>1.111450</td>\n",
              "      <td>1.000000</td>\n",
              "      <td>1.098847</td>\n",
              "      <td>1.160828</td>\n",
              "      <td>1.056406</td>\n",
              "      <td>-5.999156</td>\n",
              "      <td>1.375421</td>\n",
              "      <td>1.276744</td>\n",
              "      <td>1.056909</td>\n",
              "      <td>1.349402</td>\n",
              "      <td>0.039663</td>\n",
              "      <td>0.000000</td>\n",
              "      <td>-89.521341</td>\n",
              "    </tr>\n",
              "    <tr>\n",
              "      <th>2015-01-05</th>\n",
              "      <td>274.473999</td>\n",
              "      <td>1.055861</td>\n",
              "      <td>1.055861</td>\n",
              "      <td>1.000000</td>\n",
              "      <td>1.038464</td>\n",
              "      <td>1.106179</td>\n",
              "      <td>1.065207</td>\n",
              "      <td>-7.775871</td>\n",
              "      <td>19.523695</td>\n",
              "      <td>1.208739</td>\n",
              "      <td>1.107441</td>\n",
              "      <td>1.338607</td>\n",
              "      <td>0.097789</td>\n",
              "      <td>0.000000</td>\n",
              "      <td>-73.159512</td>\n",
              "    </tr>\n",
              "    <tr>\n",
              "      <th>...</th>\n",
              "      <td>...</td>\n",
              "      <td>...</td>\n",
              "      <td>...</td>\n",
              "      <td>...</td>\n",
              "      <td>...</td>\n",
              "      <td>...</td>\n",
              "      <td>...</td>\n",
              "      <td>...</td>\n",
              "      <td>...</td>\n",
              "      <td>...</td>\n",
              "      <td>...</td>\n",
              "      <td>...</td>\n",
              "      <td>...</td>\n",
              "      <td>...</td>\n",
              "      <td>...</td>\n",
              "    </tr>\n",
              "    <tr>\n",
              "      <th>2020-12-28</th>\n",
              "      <td>27084.808594</td>\n",
              "      <td>0.946618</td>\n",
              "      <td>0.819852</td>\n",
              "      <td>1.154621</td>\n",
              "      <td>0.953665</td>\n",
              "      <td>0.847414</td>\n",
              "      <td>0.888587</td>\n",
              "      <td>2039.260227</td>\n",
              "      <td>78.691073</td>\n",
              "      <td>1.029048</td>\n",
              "      <td>1.637584</td>\n",
              "      <td>1.685153</td>\n",
              "      <td>0.003209</td>\n",
              "      <td>0.046034</td>\n",
              "      <td>-13.074509</td>\n",
              "    </tr>\n",
              "    <tr>\n",
              "      <th>2020-12-29</th>\n",
              "      <td>27362.437500</td>\n",
              "      <td>0.963521</td>\n",
              "      <td>0.827630</td>\n",
              "      <td>1.164193</td>\n",
              "      <td>0.962659</td>\n",
              "      <td>0.854167</td>\n",
              "      <td>0.887299</td>\n",
              "      <td>2137.404010</td>\n",
              "      <td>79.349097</td>\n",
              "      <td>1.040667</td>\n",
              "      <td>1.627096</td>\n",
              "      <td>1.693266</td>\n",
              "      <td>0.003278</td>\n",
              "      <td>0.045924</td>\n",
              "      <td>-10.304209</td>\n",
              "    </tr>\n",
              "    <tr>\n",
              "      <th>2020-12-30</th>\n",
              "      <td>28840.953125</td>\n",
              "      <td>0.943086</td>\n",
              "      <td>0.803537</td>\n",
              "      <td>1.173669</td>\n",
              "      <td>0.942206</td>\n",
              "      <td>0.828438</td>\n",
              "      <td>0.879253</td>\n",
              "      <td>2307.883673</td>\n",
              "      <td>82.456164</td>\n",
              "      <td>1.013583</td>\n",
              "      <td>1.684946</td>\n",
              "      <td>1.707832</td>\n",
              "      <td>0.003424</td>\n",
              "      <td>0.044365</td>\n",
              "      <td>-1.256475</td>\n",
              "    </tr>\n",
              "    <tr>\n",
              "      <th>2020-12-31</th>\n",
              "      <td>29001.720703</td>\n",
              "      <td>0.955545</td>\n",
              "      <td>0.817948</td>\n",
              "      <td>1.168222</td>\n",
              "      <td>0.957989</td>\n",
              "      <td>0.840622</td>\n",
              "      <td>0.877486</td>\n",
              "      <td>2427.974456</td>\n",
              "      <td>82.759909</td>\n",
              "      <td>1.027848</td>\n",
              "      <td>1.644608</td>\n",
              "      <td>1.690407</td>\n",
              "      <td>0.003330</td>\n",
              "      <td>0.043536</td>\n",
              "      <td>-3.431740</td>\n",
              "    </tr>\n",
              "    <tr>\n",
              "      <th>2021-01-01</th>\n",
              "      <td>29374.152344</td>\n",
              "      <td>0.964549</td>\n",
              "      <td>0.825570</td>\n",
              "      <td>1.168343</td>\n",
              "      <td>0.963895</td>\n",
              "      <td>0.846158</td>\n",
              "      <td>0.877853</td>\n",
              "      <td>2524.103099</td>\n",
              "      <td>83.473733</td>\n",
              "      <td>1.034020</td>\n",
              "      <td>1.620430</td>\n",
              "      <td>1.675558</td>\n",
              "      <td>0.003301</td>\n",
              "      <td>0.041852</td>\n",
              "      <td>-3.043498</td>\n",
              "    </tr>\n",
              "  </tbody>\n",
              "</table>\n",
              "<p>2189 rows × 15 columns</p>\n",
              "</div>"
            ],
            "text/plain": [
              "                   Close     SMA_5    SMA_20  ...       KDJ       ATR          WR\n",
              "Date                                          ...                                \n",
              "2015-01-01    314.248993  1.000000  1.000000  ...  0.012171  0.000000  -96.175343\n",
              "2015-01-02    315.032013  0.998757  0.998757  ...  0.067783  0.000000  -78.646120\n",
              "2015-01-03    281.082001  1.079594  1.079594  ...  0.000000  0.000000 -100.000000\n",
              "2015-01-04    264.195007  1.111450  1.111450  ...  0.039663  0.000000  -89.521341\n",
              "2015-01-05    274.473999  1.055861  1.055861  ...  0.097789  0.000000  -73.159512\n",
              "...                  ...       ...       ...  ...       ...       ...         ...\n",
              "2020-12-28  27084.808594  0.946618  0.819852  ...  0.003209  0.046034  -13.074509\n",
              "2020-12-29  27362.437500  0.963521  0.827630  ...  0.003278  0.045924  -10.304209\n",
              "2020-12-30  28840.953125  0.943086  0.803537  ...  0.003424  0.044365   -1.256475\n",
              "2020-12-31  29001.720703  0.955545  0.817948  ...  0.003330  0.043536   -3.431740\n",
              "2021-01-01  29374.152344  0.964549  0.825570  ...  0.003301  0.041852   -3.043498\n",
              "\n",
              "[2189 rows x 15 columns]"
            ]
          },
          "metadata": {},
          "execution_count": 237
        }
      ]
    },
    {
      "cell_type": "code",
      "metadata": {
        "colab": {
          "base_uri": "https://localhost:8080/",
          "height": 450
        },
        "id": "Aq5LU3L0ynyO",
        "outputId": "81b20b41-78e2-4269-f16d-8164bde3ccb3"
      },
      "source": [
        "# Crea el Target (1 si el precio sube el día siguiente, -1 si baja)\n",
        "target = np.where(np.array(df['Close'].iloc[1:]) > np.array(df['Close'].iloc[:-1]), 1, -1)\n",
        "df.drop('Close', axis=1, inplace=True)\n",
        "\n",
        "# Elimina el ultimo día para el que no tenemos info del precio el día siguiente.\n",
        "df.drop(df.tail(1).index, inplace=True)\n",
        "\n",
        "# Creamos la columna target\n",
        "df['Target'] = target\n",
        "\n",
        "# Elimina los primeros 29 días dónde los indicadores técnicos no tienen suficiente info\n",
        "df.drop(df.head(29).index, inplace=True)\n",
        "\n",
        "df"
      ],
      "execution_count": 238,
      "outputs": [
        {
          "output_type": "execute_result",
          "data": {
            "text/html": [
              "<div>\n",
              "<style scoped>\n",
              "    .dataframe tbody tr th:only-of-type {\n",
              "        vertical-align: middle;\n",
              "    }\n",
              "\n",
              "    .dataframe tbody tr th {\n",
              "        vertical-align: top;\n",
              "    }\n",
              "\n",
              "    .dataframe thead th {\n",
              "        text-align: right;\n",
              "    }\n",
              "</style>\n",
              "<table border=\"1\" class=\"dataframe\">\n",
              "  <thead>\n",
              "    <tr style=\"text-align: right;\">\n",
              "      <th></th>\n",
              "      <th>SMA_5</th>\n",
              "      <th>SMA_20</th>\n",
              "      <th>SMA_20_5</th>\n",
              "      <th>EMA_5</th>\n",
              "      <th>EMA_20</th>\n",
              "      <th>EMA_20_5</th>\n",
              "      <th>MACD</th>\n",
              "      <th>RSI</th>\n",
              "      <th>BOL_H</th>\n",
              "      <th>BOL_L</th>\n",
              "      <th>BOL_H_L</th>\n",
              "      <th>KDJ</th>\n",
              "      <th>ATR</th>\n",
              "      <th>WR</th>\n",
              "      <th>Target</th>\n",
              "    </tr>\n",
              "    <tr>\n",
              "      <th>Date</th>\n",
              "      <th></th>\n",
              "      <th></th>\n",
              "      <th></th>\n",
              "      <th></th>\n",
              "      <th></th>\n",
              "      <th></th>\n",
              "      <th></th>\n",
              "      <th></th>\n",
              "      <th></th>\n",
              "      <th></th>\n",
              "      <th></th>\n",
              "      <th></th>\n",
              "      <th></th>\n",
              "      <th></th>\n",
              "      <th></th>\n",
              "    </tr>\n",
              "  </thead>\n",
              "  <tbody>\n",
              "    <tr>\n",
              "      <th>2015-01-30</th>\n",
              "      <td>1.087160</td>\n",
              "      <td>1.019473</td>\n",
              "      <td>1.066394</td>\n",
              "      <td>1.049650</td>\n",
              "      <td>1.075117</td>\n",
              "      <td>1.024262</td>\n",
              "      <td>-8.864036</td>\n",
              "      <td>42.046589</td>\n",
              "      <td>1.237219</td>\n",
              "      <td>1.247307</td>\n",
              "      <td>1.543193</td>\n",
              "      <td>0.122712</td>\n",
              "      <td>0.096052</td>\n",
              "      <td>-72.214867</td>\n",
              "      <td>-1</td>\n",
              "    </tr>\n",
              "    <tr>\n",
              "      <th>2015-01-31</th>\n",
              "      <td>1.080447</td>\n",
              "      <td>1.050401</td>\n",
              "      <td>1.028605</td>\n",
              "      <td>1.061935</td>\n",
              "      <td>1.108046</td>\n",
              "      <td>1.043421</td>\n",
              "      <td>-9.947985</td>\n",
              "      <td>39.545291</td>\n",
              "      <td>1.266125</td>\n",
              "      <td>1.198069</td>\n",
              "      <td>1.516905</td>\n",
              "      <td>0.091899</td>\n",
              "      <td>0.098515</td>\n",
              "      <td>-80.015315</td>\n",
              "      <td>1</td>\n",
              "    </tr>\n",
              "    <tr>\n",
              "      <th>2015-02-01</th>\n",
              "      <td>1.003022</td>\n",
              "      <td>0.997406</td>\n",
              "      <td>1.005630</td>\n",
              "      <td>1.011633</td>\n",
              "      <td>1.055760</td>\n",
              "      <td>1.043619</td>\n",
              "      <td>-9.925393</td>\n",
              "      <td>43.393165</td>\n",
              "      <td>1.188158</td>\n",
              "      <td>1.239689</td>\n",
              "      <td>1.472947</td>\n",
              "      <td>0.092229</td>\n",
              "      <td>0.093801</td>\n",
              "      <td>-79.066689</td>\n",
              "      <td>1</td>\n",
              "    </tr>\n",
              "    <tr>\n",
              "      <th>2015-02-02</th>\n",
              "      <td>0.959248</td>\n",
              "      <td>0.952871</td>\n",
              "      <td>1.006692</td>\n",
              "      <td>0.975887</td>\n",
              "      <td>1.005313</td>\n",
              "      <td>1.030153</td>\n",
              "      <td>-8.896588</td>\n",
              "      <td>47.642203</td>\n",
              "      <td>1.135889</td>\n",
              "      <td>1.298948</td>\n",
              "      <td>1.475461</td>\n",
              "      <td>0.133205</td>\n",
              "      <td>0.088837</td>\n",
              "      <td>-68.266636</td>\n",
              "      <td>-1</td>\n",
              "    </tr>\n",
              "    <tr>\n",
              "      <th>2015-02-03</th>\n",
              "      <td>1.000016</td>\n",
              "      <td>1.009644</td>\n",
              "      <td>0.990463</td>\n",
              "      <td>1.015302</td>\n",
              "      <td>1.048675</td>\n",
              "      <td>1.032869</td>\n",
              "      <td>-8.863540</td>\n",
              "      <td>44.165876</td>\n",
              "      <td>1.174198</td>\n",
              "      <td>1.183305</td>\n",
              "      <td>1.389435</td>\n",
              "      <td>0.071963</td>\n",
              "      <td>0.093219</td>\n",
              "      <td>-83.645031</td>\n",
              "      <td>-1</td>\n",
              "    </tr>\n",
              "    <tr>\n",
              "      <th>...</th>\n",
              "      <td>...</td>\n",
              "      <td>...</td>\n",
              "      <td>...</td>\n",
              "      <td>...</td>\n",
              "      <td>...</td>\n",
              "      <td>...</td>\n",
              "      <td>...</td>\n",
              "      <td>...</td>\n",
              "      <td>...</td>\n",
              "      <td>...</td>\n",
              "      <td>...</td>\n",
              "      <td>...</td>\n",
              "      <td>...</td>\n",
              "      <td>...</td>\n",
              "      <td>...</td>\n",
              "    </tr>\n",
              "    <tr>\n",
              "      <th>2020-12-27</th>\n",
              "      <td>0.946635</td>\n",
              "      <td>0.828529</td>\n",
              "      <td>1.142550</td>\n",
              "      <td>0.959275</td>\n",
              "      <td>0.857064</td>\n",
              "      <td>0.893450</td>\n",
              "      <td>1912.598775</td>\n",
              "      <td>76.670934</td>\n",
              "      <td>1.035586</td>\n",
              "      <td>1.609085</td>\n",
              "      <td>1.666346</td>\n",
              "      <td>0.002979</td>\n",
              "      <td>0.047649</td>\n",
              "      <td>-21.739074</td>\n",
              "      <td>1</td>\n",
              "    </tr>\n",
              "    <tr>\n",
              "      <th>2020-12-28</th>\n",
              "      <td>0.946618</td>\n",
              "      <td>0.819852</td>\n",
              "      <td>1.154621</td>\n",
              "      <td>0.953665</td>\n",
              "      <td>0.847414</td>\n",
              "      <td>0.888587</td>\n",
              "      <td>2039.260227</td>\n",
              "      <td>78.691073</td>\n",
              "      <td>1.029048</td>\n",
              "      <td>1.637584</td>\n",
              "      <td>1.685153</td>\n",
              "      <td>0.003209</td>\n",
              "      <td>0.046034</td>\n",
              "      <td>-13.074509</td>\n",
              "      <td>1</td>\n",
              "    </tr>\n",
              "    <tr>\n",
              "      <th>2020-12-29</th>\n",
              "      <td>0.963521</td>\n",
              "      <td>0.827630</td>\n",
              "      <td>1.164193</td>\n",
              "      <td>0.962659</td>\n",
              "      <td>0.854167</td>\n",
              "      <td>0.887299</td>\n",
              "      <td>2137.404010</td>\n",
              "      <td>79.349097</td>\n",
              "      <td>1.040667</td>\n",
              "      <td>1.627096</td>\n",
              "      <td>1.693266</td>\n",
              "      <td>0.003278</td>\n",
              "      <td>0.045924</td>\n",
              "      <td>-10.304209</td>\n",
              "      <td>1</td>\n",
              "    </tr>\n",
              "    <tr>\n",
              "      <th>2020-12-30</th>\n",
              "      <td>0.943086</td>\n",
              "      <td>0.803537</td>\n",
              "      <td>1.173669</td>\n",
              "      <td>0.942206</td>\n",
              "      <td>0.828438</td>\n",
              "      <td>0.879253</td>\n",
              "      <td>2307.883673</td>\n",
              "      <td>82.456164</td>\n",
              "      <td>1.013583</td>\n",
              "      <td>1.684946</td>\n",
              "      <td>1.707832</td>\n",
              "      <td>0.003424</td>\n",
              "      <td>0.044365</td>\n",
              "      <td>-1.256475</td>\n",
              "      <td>1</td>\n",
              "    </tr>\n",
              "    <tr>\n",
              "      <th>2020-12-31</th>\n",
              "      <td>0.955545</td>\n",
              "      <td>0.817948</td>\n",
              "      <td>1.168222</td>\n",
              "      <td>0.957989</td>\n",
              "      <td>0.840622</td>\n",
              "      <td>0.877486</td>\n",
              "      <td>2427.974456</td>\n",
              "      <td>82.759909</td>\n",
              "      <td>1.027848</td>\n",
              "      <td>1.644608</td>\n",
              "      <td>1.690407</td>\n",
              "      <td>0.003330</td>\n",
              "      <td>0.043536</td>\n",
              "      <td>-3.431740</td>\n",
              "      <td>1</td>\n",
              "    </tr>\n",
              "  </tbody>\n",
              "</table>\n",
              "<p>2159 rows × 15 columns</p>\n",
              "</div>"
            ],
            "text/plain": [
              "               SMA_5    SMA_20  SMA_20_5  ...       ATR         WR  Target\n",
              "Date                                      ...                             \n",
              "2015-01-30  1.087160  1.019473  1.066394  ...  0.096052 -72.214867      -1\n",
              "2015-01-31  1.080447  1.050401  1.028605  ...  0.098515 -80.015315       1\n",
              "2015-02-01  1.003022  0.997406  1.005630  ...  0.093801 -79.066689       1\n",
              "2015-02-02  0.959248  0.952871  1.006692  ...  0.088837 -68.266636      -1\n",
              "2015-02-03  1.000016  1.009644  0.990463  ...  0.093219 -83.645031      -1\n",
              "...              ...       ...       ...  ...       ...        ...     ...\n",
              "2020-12-27  0.946635  0.828529  1.142550  ...  0.047649 -21.739074       1\n",
              "2020-12-28  0.946618  0.819852  1.154621  ...  0.046034 -13.074509       1\n",
              "2020-12-29  0.963521  0.827630  1.164193  ...  0.045924 -10.304209       1\n",
              "2020-12-30  0.943086  0.803537  1.173669  ...  0.044365  -1.256475       1\n",
              "2020-12-31  0.955545  0.817948  1.168222  ...  0.043536  -3.431740       1\n",
              "\n",
              "[2159 rows x 15 columns]"
            ]
          },
          "metadata": {},
          "execution_count": 238
        }
      ]
    },
    {
      "cell_type": "code",
      "metadata": {
        "colab": {
          "base_uri": "https://localhost:8080/"
        },
        "id": "cmC_4S_zzhLG",
        "outputId": "eef95044-1a26-4210-c2a1-388467d7d460"
      },
      "source": [
        "# Divida el conjunto de datos en una característica o un conjunto de datos independiente (X) y un destino o conjunto de datos dependiente (Y)\n",
        "X = np.array(df.iloc[:, :-1])\n",
        "Y = np.array(df.iloc[:, -1])\n",
        "\n",
        "print(X.shape)\n",
        "print(Y.shape)"
      ],
      "execution_count": 239,
      "outputs": [
        {
          "output_type": "stream",
          "name": "stdout",
          "text": [
            "(2159, 14)\n",
            "(2159,)\n"
          ]
        }
      ]
    },
    {
      "cell_type": "markdown",
      "metadata": {
        "id": "L0uCcDmyJTFM"
      },
      "source": [
        "## 4. Conjunto de entrenamiento y prueba"
      ]
    },
    {
      "cell_type": "code",
      "metadata": {
        "id": "U7toFLUhI2Sx"
      },
      "source": [
        "# Importar libreria de sklearn \n",
        "from sklearn.model_selection import train_test_split\n",
        "from sklearn import metrics\n",
        "from sklearn.metrics import confusion_matrix\n",
        "from sklearn.metrics import plot_roc_curve"
      ],
      "execution_count": 265,
      "outputs": []
    },
    {
      "cell_type": "code",
      "metadata": {
        "id": "SHrAH-ZsI2s1"
      },
      "source": [
        "# Vuelva a dividir los datos, pero esta vez en 80% de entrenamiento y 20% de prueba.\n",
        "X_train, X_test, Y_train, Y_test = train_test_split(X, Y, test_size = 0.10, random_state=1)"
      ],
      "execution_count": 266,
      "outputs": []
    },
    {
      "cell_type": "code",
      "metadata": {
        "colab": {
          "base_uri": "https://localhost:8080/"
        },
        "id": "u3_VGqee9ZG7",
        "outputId": "31d9931c-7b52-4287-8b29-ebffa7de7dd8"
      },
      "source": [
        "print(X_train.shape)\n",
        "print(X_test.shape)"
      ],
      "execution_count": 267,
      "outputs": [
        {
          "output_type": "stream",
          "name": "stdout",
          "text": [
            "(1943, 14)\n",
            "(216, 14)\n"
          ]
        }
      ]
    },
    {
      "cell_type": "markdown",
      "metadata": {
        "id": "o01VaYhRB4CU"
      },
      "source": [
        "## 5. Machine Learning - Support vector machine (SVM)"
      ]
    },
    {
      "cell_type": "code",
      "metadata": {
        "id": "5Ic-9CEcB8Do"
      },
      "source": [
        "# Support Vector Machine (SVM) es un algoritmo de tipo aprendizaje automático supervisado.\n",
        "# SVC se refiere a Support Vector Classification\n",
        "from sklearn.svm import SVC\n",
        "from sklearn.preprocessing import StandardScaler"
      ],
      "execution_count": 268,
      "outputs": []
    },
    {
      "cell_type": "code",
      "metadata": {
        "id": "S-BEsyHKCShl"
      },
      "source": [
        "#Standardization\n",
        "standard = StandardScaler()\n",
        "X_train = standard.fit_transform(X_train)\n",
        "X_test = standard.transform(X_test)"
      ],
      "execution_count": 269,
      "outputs": []
    },
    {
      "cell_type": "code",
      "metadata": {
        "colab": {
          "base_uri": "https://localhost:8080/"
        },
        "id": "ITp-5OPyCWVF",
        "outputId": "f2183204-7643-40c5-fa5d-1cef5cbbcc5d"
      },
      "source": [
        "#svc = SVC(kernel='linear')\n",
        "# Polynomial Kernel\n",
        "# svc  = SVC(kernel='poly', degree=2)\n",
        "# Gaussian Kernel\n",
        "svc = SVC(kernel='rbf')\n",
        "# Sigmoid Kernel\n",
        "#svc = SVC(kernel='sigmoid')\n",
        "svc.fit(X_train, Y_train)"
      ],
      "execution_count": 304,
      "outputs": [
        {
          "output_type": "execute_result",
          "data": {
            "text/plain": [
              "SVC(C=1.0, break_ties=False, cache_size=200, class_weight=None, coef0=0.0,\n",
              "    decision_function_shape='ovr', degree=3, gamma='scale', kernel='rbf',\n",
              "    max_iter=-1, probability=False, random_state=None, shrinking=True,\n",
              "    tol=0.001, verbose=False)"
            ]
          },
          "metadata": {},
          "execution_count": 304
        }
      ]
    },
    {
      "cell_type": "code",
      "metadata": {
        "colab": {
          "base_uri": "https://localhost:8080/"
        },
        "id": "04Gqvs7qB3pO",
        "outputId": "67223e67-30c3-4737-8663-7f218f76c78c"
      },
      "source": [
        "print(svc.score(X_train, Y_train))"
      ],
      "execution_count": 305,
      "outputs": [
        {
          "output_type": "stream",
          "name": "stdout",
          "text": [
            "0.5769428718476582\n"
          ]
        }
      ]
    },
    {
      "cell_type": "code",
      "metadata": {
        "colab": {
          "base_uri": "https://localhost:8080/"
        },
        "id": "a0NXNN1sCb6I",
        "outputId": "ba20bc8c-d3eb-4bdb-93a4-281aed21eae5"
      },
      "source": [
        "svm_predictions = svc.predict(X_test)\n",
        "\n",
        "#Check how weel the model did on the testing data set\n",
        "\n",
        "print(svc.score(X_test, Y_test))\n",
        "print(confusion_matrix(Y_test, svm_predictions))"
      ],
      "execution_count": 306,
      "outputs": [
        {
          "output_type": "stream",
          "name": "stdout",
          "text": [
            "0.6435185185185185\n",
            "[[ 20  58]\n",
            " [ 19 119]]\n"
          ]
        }
      ]
    },
    {
      "cell_type": "code",
      "metadata": {
        "colab": {
          "base_uri": "https://localhost:8080/",
          "height": 279
        },
        "id": "9kClbWh0Dgso",
        "outputId": "e0a0e41f-1779-428b-9c64-35e1808769bf"
      },
      "source": [
        "# Get the model metrics\n",
        "metrics.plot_roc_curve(svc, X_test, Y_test)\n",
        "plt.show()"
      ],
      "execution_count": 307,
      "outputs": [
        {
          "output_type": "display_data",
          "data": {
            "image/png": "[encoded data removed]",
            "text/plain": [
              "<Figure size 432x288 with 1 Axes>"
            ]
          },
          "metadata": {
            "needs_background": "light"
          }
        }
      ]
    },
    {
      "cell_type": "markdown",
      "metadata": {
        "id": "UunnZSSZe72G"
      },
      "source": [
        "## 5. Análisis Técnico - Decision Tree classifer"
      ]
    },
    {
      "cell_type": "code",
      "metadata": {
        "id": "N85fug6ce7Zx"
      },
      "source": [
        "from sklearn.tree import DecisionTreeClassifier\n",
        "from sklearn import tree"
      ],
      "execution_count": 274,
      "outputs": []
    },
    {
      "cell_type": "code",
      "metadata": {
        "id": "rcSj0_7p0EcX"
      },
      "source": [
        "# Crear y entrenar el modelo de clasificador de árbol de decisión.\n",
        "clf = DecisionTreeClassifier()\n",
        "# Entrenar árbol de clasificación\n",
        "clf = clf.fit(X_train,Y_train)"
      ],
      "execution_count": 275,
      "outputs": []
    },
    {
      "cell_type": "code",
      "metadata": {
        "colab": {
          "base_uri": "https://localhost:8080/"
        },
        "id": "S7R7q0c60XV0",
        "outputId": "bda70856-3bcb-4f36-c8a3-3638b347bbfe"
      },
      "source": [
        "# Compruebe cómo le fue al modelo en el conjunto de datos de prueba\n",
        "print(clf.score(X_test,Y_test))"
      ],
      "execution_count": 276,
      "outputs": [
        {
          "output_type": "stream",
          "name": "stdout",
          "text": [
            "0.5694444444444444\n"
          ]
        }
      ]
    },
    {
      "cell_type": "code",
      "metadata": {
        "colab": {
          "base_uri": "https://localhost:8080/"
        },
        "id": "Kw-GX3rT0o2h",
        "outputId": "d2112317-7c7b-4c44-9936-547df18a9345"
      },
      "source": [
        "# Obtenga las métricas del modelo\n",
        "# Matriz de confusión\n",
        "tree_predictions = clf.predict(X_test)\n",
        "print(confusion_matrix(Y_test,tree_predictions))"
      ],
      "execution_count": 277,
      "outputs": [
        {
          "output_type": "stream",
          "name": "stdout",
          "text": [
            "[[39 39]\n",
            " [54 84]]\n"
          ]
        }
      ]
    },
    {
      "cell_type": "code",
      "metadata": {
        "colab": {
          "base_uri": "https://localhost:8080/",
          "height": 279
        },
        "id": "MpsH35pW1K7N",
        "outputId": "0e75184c-5bc8-4e70-d3e3-7d322a78f7d1"
      },
      "source": [
        "metrics.plot_roc_curve(clf, X_test, Y_test)  \n",
        "plt.show()"
      ],
      "execution_count": 278,
      "outputs": [
        {
          "output_type": "display_data",
          "data": {
            "image/png": "[encoded data removed]",
            "text/plain": [
              "<Figure size 432x288 with 1 Axes>"
            ]
          },
          "metadata": {
            "needs_background": "light"
          }
        }
      ]
    },
    {
      "cell_type": "code",
      "metadata": {
        "id": "F11_yPZA2PAQ"
      },
      "source": [
        "# Random forest\n",
        "from sklearn.ensemble import RandomForestClassifier"
      ],
      "execution_count": 279,
      "outputs": []
    },
    {
      "cell_type": "code",
      "metadata": {
        "colab": {
          "base_uri": "https://localhost:8080/"
        },
        "id": "0nHxvMmi2U96",
        "outputId": "4e020eb5-d191-49e1-d100-4d6dedd2acfb"
      },
      "source": [
        "rf = RandomForestClassifier()\n",
        "# Train Random Forest\n",
        "rf  = rf.fit(X_train,Y_train)\n",
        "#Check how weel the model did on the testing data set\n",
        "print(rf.score(X_test,Y_test))\n"
      ],
      "execution_count": 280,
      "outputs": [
        {
          "output_type": "stream",
          "name": "stdout",
          "text": [
            "0.6388888888888888\n"
          ]
        }
      ]
    },
    {
      "cell_type": "code",
      "metadata": {
        "colab": {
          "base_uri": "https://localhost:8080/"
        },
        "id": "G8XinU042eMj",
        "outputId": "b40159b7-3c76-4596-d322-54be96400fa2"
      },
      "source": [
        "# Get the model metrics\n",
        "rf_predictions = rf.predict(X_test)\n",
        "print(confusion_matrix(Y_test,rf_predictions))"
      ],
      "execution_count": 255,
      "outputs": [
        {
          "output_type": "stream",
          "name": "stdout",
          "text": [
            "[[55 42]\n",
            " [46 73]]\n"
          ]
        }
      ]
    },
    {
      "cell_type": "code",
      "metadata": {
        "id": "6gEIamrY2lGm",
        "colab": {
          "base_uri": "https://localhost:8080/",
          "height": 279
        },
        "outputId": "6bbf79ca-4e71-412e-ad5f-a0cfc47914e6"
      },
      "source": [
        "# Get the model metrics\n",
        "metrics.plot_roc_curve(rf, X_test, Y_test)\n",
        "plt.show()"
      ],
      "execution_count": 281,
      "outputs": [
        {
          "output_type": "display_data",
          "data": {
            "image/png": "[encoded data removed]",
            "text/plain": [
              "<Figure size 432x288 with 1 Axes>"
            ]
          },
          "metadata": {
            "needs_background": "light"
          }
        }
      ]
    },
    {
      "cell_type": "markdown",
      "metadata": {
        "id": "4hgJYDZzDyBt"
      },
      "source": [
        "## 6. Machine Learning - Redes neuronales"
      ]
    },
    {
      "cell_type": "code",
      "metadata": {
        "id": "lJzlFQY3D-eQ"
      },
      "source": [
        "# Multi-layer Perceptron (MLP) \n",
        "from sklearn.neural_network import MLPClassifier\n",
        "from sklearn.preprocessing import MinMaxScaler"
      ],
      "execution_count": 282,
      "outputs": []
    },
    {
      "cell_type": "code",
      "metadata": {
        "id": "rBawdwi7EAFw"
      },
      "source": [
        "#Scale the data\n",
        "scaler = MinMaxScaler(feature_range=(0,1))\n",
        "scaled_X_train = scaler.fit_transform(X_train)\n",
        "scaled_X_test = scaler.transform(X_test)"
      ],
      "execution_count": 283,
      "outputs": []
    },
    {
      "cell_type": "code",
      "metadata": {
        "colab": {
          "base_uri": "https://localhost:8080/"
        },
        "id": "proAGOujEG6i",
        "outputId": "485668c8-3e0e-468f-aab5-3ddde1260d5d"
      },
      "source": [
        "# ‘lbfgs’ is an optimizer in the family of quasi-Newton methods\n",
        "clf = MLPClassifier(solver='adam', alpha=1e-5, hidden_layer_sizes=(32,16), random_state=1)\n",
        "# clf = MLPClassifier(solver='lbfgs', alpha=1e-5, hidden_layer_sizes=(100), random_state=1)\n",
        "clf.fit(scaled_X_train, Y_train)"
      ],
      "execution_count": 284,
      "outputs": [
        {
          "output_type": "execute_result",
          "data": {
            "text/plain": [
              "MLPClassifier(activation='relu', alpha=1e-05, batch_size='auto', beta_1=0.9,\n",
              "              beta_2=0.999, early_stopping=False, epsilon=1e-08,\n",
              "              hidden_layer_sizes=(32, 16), learning_rate='constant',\n",
              "              learning_rate_init=0.001, max_fun=15000, max_iter=200,\n",
              "              momentum=0.9, n_iter_no_change=10, nesterovs_momentum=True,\n",
              "              power_t=0.5, random_state=1, shuffle=True, solver='adam',\n",
              "              tol=0.0001, validation_fraction=0.1, verbose=False,\n",
              "              warm_start=False)"
            ]
          },
          "metadata": {},
          "execution_count": 284
        }
      ]
    },
    {
      "cell_type": "code",
      "metadata": {
        "colab": {
          "base_uri": "https://localhost:8080/"
        },
        "id": "z2mCFeN6EO1s",
        "outputId": "506d9780-0ef9-4080-86ea-c0a0e155abc1"
      },
      "source": [
        "NN = clf.predict(scaled_X_test)\n",
        "# Model Accuracy, how often is the classifier correct?\n",
        "print(\"Accuracy:\",metrics.accuracy_score(Y_test, NN))"
      ],
      "execution_count": 285,
      "outputs": [
        {
          "output_type": "stream",
          "name": "stdout",
          "text": [
            "Accuracy: 0.6203703703703703\n"
          ]
        }
      ]
    },
    {
      "cell_type": "code",
      "metadata": {
        "colab": {
          "base_uri": "https://localhost:8080/"
        },
        "id": "lg_GUIpDEU12",
        "outputId": "fb764b05-5d94-4500-c3d9-d7acff91be28"
      },
      "source": [
        "print(confusion_matrix(Y_test,NN))"
      ],
      "execution_count": 286,
      "outputs": [
        {
          "output_type": "stream",
          "name": "stdout",
          "text": [
            "[[ 20  58]\n",
            " [ 24 114]]\n"
          ]
        }
      ]
    },
    {
      "cell_type": "code",
      "metadata": {
        "colab": {
          "base_uri": "https://localhost:8080/",
          "height": 279
        },
        "id": "aAvh_JvSEcOT",
        "outputId": "ffa47096-74b6-4bfe-a00f-551a3c4f90f2"
      },
      "source": [
        "# Get the model metrics\n",
        "from sklearn.metrics import plot_roc_curve\n",
        "metrics.plot_roc_curve(clf, scaled_X_test, Y_test)\n",
        "plt.show()"
      ],
      "execution_count": 287,
      "outputs": [
        {
          "output_type": "display_data",
          "data": {
            "image/png": "[encoded data removed]",
            "text/plain": [
              "<Figure size 432x288 with 1 Axes>"
            ]
          },
          "metadata": {
            "needs_background": "light"
          }
        }
      ]
    }
  ]
}